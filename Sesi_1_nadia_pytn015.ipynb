{
 "cells": [
  {
   "cell_type": "code",
   "execution_count": 30,
   "id": "831ae074",
   "metadata": {},
   "outputs": [
    {
     "ename": "SyntaxError",
     "evalue": "invalid syntax (1615379451.py, line 1)",
     "output_type": "error",
     "traceback": [
      "\u001b[1;36m  File \u001b[1;32m\"C:\\Users\\Lenovo\\AppData\\Local\\Temp\\ipykernel_4852\\1615379451.py\"\u001b[1;36m, line \u001b[1;32m1\u001b[0m\n\u001b[1;33m    print(12312132132132, sep=)\u001b[0m\n\u001b[1;37m                              ^\u001b[0m\n\u001b[1;31mSyntaxError\u001b[0m\u001b[1;31m:\u001b[0m invalid syntax\n"
     ]
    }
   ],
   "source": [
    "print(12312132132132, sep=)"
   ]
  },
  {
   "cell_type": "code",
   "execution_count": 2,
   "id": "0855ba59",
   "metadata": {},
   "outputs": [
    {
     "name": "stdout",
     "output_type": "stream",
     "text": [
      "hello\n"
     ]
    }
   ],
   "source": [
    "print(\"hello\")"
   ]
  },
  {
   "cell_type": "markdown",
   "id": "c9c4000b",
   "metadata": {},
   "source": [
    "Ini buat catatan\n",
    "\n",
    "Tipe data python\n",
    "\n",
    "integer: angka bulat\n",
    "floats: angka desimal\n",
    "string: kumpulan karakter\n",
    "boolean: true / false\n",
    "list: array (kumpulan dari data)"
   ]
  },
  {
   "cell_type": "markdown",
   "id": "34adc619",
   "metadata": {},
   "source": [
    "# integers"
   ]
  },
  {
   "cell_type": "code",
   "execution_count": 3,
   "id": "dc4e73f5",
   "metadata": {},
   "outputs": [
    {
     "data": {
      "text/plain": [
       "1"
      ]
     },
     "execution_count": 3,
     "metadata": {},
     "output_type": "execute_result"
    }
   ],
   "source": [
    "1"
   ]
  },
  {
   "cell_type": "code",
   "execution_count": 4,
   "id": "690cd18c",
   "metadata": {},
   "outputs": [
    {
     "data": {
      "text/plain": [
       "int"
      ]
     },
     "execution_count": 4,
     "metadata": {},
     "output_type": "execute_result"
    }
   ],
   "source": [
    "type(1)"
   ]
  },
  {
   "cell_type": "code",
   "execution_count": 5,
   "id": "f36d7034",
   "metadata": {},
   "outputs": [
    {
     "name": "stdout",
     "output_type": "stream",
     "text": [
      "<class 'int'>\n"
     ]
    }
   ],
   "source": [
    "print(type(1))"
   ]
  },
  {
   "cell_type": "markdown",
   "id": "8ff192a4",
   "metadata": {},
   "source": [
    "# floats"
   ]
  },
  {
   "cell_type": "code",
   "execution_count": 6,
   "id": "7971d636",
   "metadata": {},
   "outputs": [
    {
     "data": {
      "text/plain": [
       "10.5"
      ]
     },
     "execution_count": 6,
     "metadata": {},
     "output_type": "execute_result"
    }
   ],
   "source": [
    "10.5"
   ]
  },
  {
   "cell_type": "code",
   "execution_count": 7,
   "id": "6b7e019c",
   "metadata": {},
   "outputs": [
    {
     "data": {
      "text/plain": [
       "float"
      ]
     },
     "execution_count": 7,
     "metadata": {},
     "output_type": "execute_result"
    }
   ],
   "source": [
    "type(10.5)"
   ]
  },
  {
   "cell_type": "code",
   "execution_count": 8,
   "id": "c40b9f33",
   "metadata": {},
   "outputs": [
    {
     "data": {
      "text/plain": [
       "float"
      ]
     },
     "execution_count": 8,
     "metadata": {},
     "output_type": "execute_result"
    }
   ],
   "source": [
    "15.8\n",
    "type(15.8)"
   ]
  },
  {
   "cell_type": "code",
   "execution_count": 9,
   "id": "4b2e82de",
   "metadata": {},
   "outputs": [
    {
     "name": "stdout",
     "output_type": "stream",
     "text": [
      "15.8\n",
      "<class 'float'>\n"
     ]
    }
   ],
   "source": [
    "print(15.8)\n",
    "print(type(15.8))"
   ]
  },
  {
   "cell_type": "code",
   "execution_count": 10,
   "id": "015ad4d1",
   "metadata": {},
   "outputs": [
    {
     "data": {
      "text/plain": [
       "True"
      ]
     },
     "execution_count": 10,
     "metadata": {},
     "output_type": "execute_result"
    }
   ],
   "source": [
    "0.2 == .2"
   ]
  },
  {
   "cell_type": "code",
   "execution_count": 11,
   "id": "cfe7073f",
   "metadata": {},
   "outputs": [
    {
     "data": {
      "text/plain": [
       "0.5555"
      ]
     },
     "execution_count": 11,
     "metadata": {},
     "output_type": "execute_result"
    }
   ],
   "source": [
    "0.555\n",
    ".5555"
   ]
  },
  {
   "cell_type": "code",
   "execution_count": 12,
   "id": "a6c75aea",
   "metadata": {},
   "outputs": [
    {
     "data": {
      "text/plain": [
       "500.0"
      ]
     },
     "execution_count": 12,
     "metadata": {},
     "output_type": "execute_result"
    }
   ],
   "source": [
    "5e2"
   ]
  },
  {
   "cell_type": "code",
   "execution_count": 13,
   "id": "e962a096",
   "metadata": {},
   "outputs": [
    {
     "data": {
      "text/plain": [
       "0.05"
      ]
     },
     "execution_count": 13,
     "metadata": {},
     "output_type": "execute_result"
    }
   ],
   "source": [
    "5e-2"
   ]
  },
  {
   "cell_type": "markdown",
   "id": "bc4d2eca",
   "metadata": {},
   "source": [
    "# string\n"
   ]
  },
  {
   "cell_type": "code",
   "execution_count": 14,
   "id": "9ca4da14",
   "metadata": {},
   "outputs": [
    {
     "ename": "NameError",
     "evalue": "name 'k' is not defined",
     "output_type": "error",
     "traceback": [
      "\u001b[1;31m---------------------------------------------------------------------------\u001b[0m",
      "\u001b[1;31mNameError\u001b[0m                                 Traceback (most recent call last)",
      "\u001b[1;32m~\\AppData\\Local\\Temp\\ipykernel_4852\\1847254281.py\u001b[0m in \u001b[0;36m<module>\u001b[1;34m\u001b[0m\n\u001b[1;32m----> 1\u001b[1;33m \u001b[0mk\u001b[0m\u001b[1;33m\u001b[0m\u001b[1;33m\u001b[0m\u001b[0m\n\u001b[0m",
      "\u001b[1;31mNameError\u001b[0m: name 'k' is not defined"
     ]
    }
   ],
   "source": [
    "k\n"
   ]
  },
  {
   "cell_type": "code",
   "execution_count": 15,
   "id": "74b14dd8",
   "metadata": {},
   "outputs": [
    {
     "data": {
      "text/plain": [
       "''"
      ]
     },
     "execution_count": 15,
     "metadata": {},
     "output_type": "execute_result"
    }
   ],
   "source": [
    "\"\"\n",
    "''"
   ]
  },
  {
   "cell_type": "code",
   "execution_count": 16,
   "id": "38064146",
   "metadata": {},
   "outputs": [
    {
     "data": {
      "text/plain": [
       "'kasur'"
      ]
     },
     "execution_count": 16,
     "metadata": {},
     "output_type": "execute_result"
    }
   ],
   "source": [
    "\"kasur\""
   ]
  },
  {
   "cell_type": "code",
   "execution_count": 17,
   "id": "75ddba00",
   "metadata": {},
   "outputs": [
    {
     "data": {
      "text/plain": [
       "'hello'"
      ]
     },
     "execution_count": 17,
     "metadata": {},
     "output_type": "execute_result"
    }
   ],
   "source": [
    "'hello'"
   ]
  },
  {
   "cell_type": "code",
   "execution_count": 18,
   "id": "eac4c711",
   "metadata": {},
   "outputs": [
    {
     "ename": "SyntaxError",
     "evalue": "EOL while scanning string literal (227749041.py, line 1)",
     "output_type": "error",
     "traceback": [
      "\u001b[1;36m  File \u001b[1;32m\"C:\\Users\\Lenovo\\AppData\\Local\\Temp\\ipykernel_4852\\227749041.py\"\u001b[1;36m, line \u001b[1;32m1\u001b[0m\n\u001b[1;33m    \"kasur'\u001b[0m\n\u001b[1;37m           ^\u001b[0m\n\u001b[1;31mSyntaxError\u001b[0m\u001b[1;31m:\u001b[0m EOL while scanning string literal\n"
     ]
    }
   ],
   "source": [
    "\"kasur'"
   ]
  },
  {
   "cell_type": "code",
   "execution_count": 19,
   "id": "84d7e364",
   "metadata": {},
   "outputs": [
    {
     "data": {
      "text/plain": [
       "\"I'm going to the movies\""
      ]
     },
     "execution_count": 19,
     "metadata": {},
     "output_type": "execute_result"
    }
   ],
   "source": [
    "\"I'm going to the movies\""
   ]
  },
  {
   "cell_type": "code",
   "execution_count": 20,
   "id": "b8bb4050",
   "metadata": {},
   "outputs": [
    {
     "ename": "SyntaxError",
     "evalue": "invalid syntax (2786085319.py, line 1)",
     "output_type": "error",
     "traceback": [
      "\u001b[1;36m  File \u001b[1;32m\"C:\\Users\\Lenovo\\AppData\\Local\\Temp\\ipykernel_4852\\2786085319.py\"\u001b[1;36m, line \u001b[1;32m1\u001b[0m\n\u001b[1;33m    'I'm going to the movies'\u001b[0m\n\u001b[1;37m       ^\u001b[0m\n\u001b[1;31mSyntaxError\u001b[0m\u001b[1;31m:\u001b[0m invalid syntax\n"
     ]
    }
   ],
   "source": [
    "'I'm going to the movies'"
   ]
  },
  {
   "cell_type": "code",
   "execution_count": 21,
   "id": "39fecaa1",
   "metadata": {},
   "outputs": [
    {
     "data": {
      "text/plain": [
       "\"I'm going to the movies\""
      ]
     },
     "execution_count": 21,
     "metadata": {},
     "output_type": "execute_result"
    }
   ],
   "source": [
    "\"I'm going to the movies\""
   ]
  },
  {
   "cell_type": "code",
   "execution_count": 22,
   "id": "fb90b421",
   "metadata": {},
   "outputs": [
    {
     "ename": "SyntaxError",
     "evalue": "invalid syntax (1730508988.py, line 1)",
     "output_type": "error",
     "traceback": [
      "\u001b[1;36m  File \u001b[1;32m\"C:\\Users\\Lenovo\\AppData\\Local\\Temp\\ipykernel_4852\\1730508988.py\"\u001b[1;36m, line \u001b[1;32m1\u001b[0m\n\u001b[1;33m    \"Budi berkata, \"halo, apa kabar?\"\"\u001b[0m\n\u001b[1;37m                    ^\u001b[0m\n\u001b[1;31mSyntaxError\u001b[0m\u001b[1;31m:\u001b[0m invalid syntax\n"
     ]
    }
   ],
   "source": [
    "\"Budi berkata, \"halo, apa kabar?\"\""
   ]
  },
  {
   "cell_type": "code",
   "execution_count": 23,
   "id": "dfbf09e6",
   "metadata": {},
   "outputs": [
    {
     "data": {
      "text/plain": [
       "'Budi berkata, \"halo, apa kabar?\"'"
      ]
     },
     "execution_count": 23,
     "metadata": {},
     "output_type": "execute_result"
    }
   ],
   "source": [
    "'Budi berkata, \"halo, apa kabar?\"'"
   ]
  },
  {
   "cell_type": "code",
   "execution_count": 24,
   "id": "d1111ce6",
   "metadata": {},
   "outputs": [
    {
     "data": {
      "text/plain": [
       "str"
      ]
     },
     "execution_count": 24,
     "metadata": {},
     "output_type": "execute_result"
    }
   ],
   "source": [
    "type(\"hello world\")"
   ]
  },
  {
   "cell_type": "code",
   "execution_count": 25,
   "id": "01afd9af",
   "metadata": {},
   "outputs": [
    {
     "name": "stdout",
     "output_type": "stream",
     "text": [
      "<class 'str'>\n"
     ]
    }
   ],
   "source": [
    "print(type(\"hello world\"))"
   ]
  },
  {
   "cell_type": "markdown",
   "id": "4d0a4909",
   "metadata": {},
   "source": [
    "# bool"
   ]
  },
  {
   "cell_type": "code",
   "execution_count": 26,
   "id": "9e3a892c",
   "metadata": {},
   "outputs": [
    {
     "data": {
      "text/plain": [
       "True"
      ]
     },
     "execution_count": 26,
     "metadata": {},
     "output_type": "execute_result"
    }
   ],
   "source": [
    "True"
   ]
  },
  {
   "cell_type": "code",
   "execution_count": 27,
   "id": "d4673b7b",
   "metadata": {},
   "outputs": [
    {
     "data": {
      "text/plain": [
       "False"
      ]
     },
     "execution_count": 27,
     "metadata": {},
     "output_type": "execute_result"
    }
   ],
   "source": [
    "False"
   ]
  },
  {
   "cell_type": "code",
   "execution_count": 28,
   "id": "500cafac",
   "metadata": {},
   "outputs": [
    {
     "data": {
      "text/plain": [
       "bool"
      ]
     },
     "execution_count": 28,
     "metadata": {},
     "output_type": "execute_result"
    }
   ],
   "source": [
    "\n",
    "type(True)"
   ]
  },
  {
   "cell_type": "code",
   "execution_count": 29,
   "id": "21fedb6d",
   "metadata": {},
   "outputs": [
    {
     "data": {
      "text/plain": [
       "bool"
      ]
     },
     "execution_count": 29,
     "metadata": {},
     "output_type": "execute_result"
    }
   ],
   "source": [
    "type(False)"
   ]
  },
  {
   "cell_type": "code",
   "execution_count": 31,
   "id": "95854074",
   "metadata": {},
   "outputs": [
    {
     "ename": "NameError",
     "evalue": "name 'true' is not defined",
     "output_type": "error",
     "traceback": [
      "\u001b[1;31m---------------------------------------------------------------------------\u001b[0m",
      "\u001b[1;31mNameError\u001b[0m                                 Traceback (most recent call last)",
      "\u001b[1;32m~\\AppData\\Local\\Temp\\ipykernel_4852\\592217714.py\u001b[0m in \u001b[0;36m<module>\u001b[1;34m\u001b[0m\n\u001b[1;32m----> 1\u001b[1;33m \u001b[0mtrue\u001b[0m\u001b[1;33m\u001b[0m\u001b[1;33m\u001b[0m\u001b[0m\n\u001b[0m",
      "\u001b[1;31mNameError\u001b[0m: name 'true' is not defined"
     ]
    }
   ],
   "source": [
    "true"
   ]
  },
  {
   "cell_type": "code",
   "execution_count": 32,
   "id": "38a870a9",
   "metadata": {},
   "outputs": [
    {
     "ename": "NameError",
     "evalue": "name 'false' is not defined",
     "output_type": "error",
     "traceback": [
      "\u001b[1;31m---------------------------------------------------------------------------\u001b[0m",
      "\u001b[1;31mNameError\u001b[0m                                 Traceback (most recent call last)",
      "\u001b[1;32m~\\AppData\\Local\\Temp\\ipykernel_4852\\1886621634.py\u001b[0m in \u001b[0;36m<module>\u001b[1;34m\u001b[0m\n\u001b[1;32m----> 1\u001b[1;33m \u001b[0mfalse\u001b[0m\u001b[1;33m\u001b[0m\u001b[1;33m\u001b[0m\u001b[0m\n\u001b[0m",
      "\u001b[1;31mNameError\u001b[0m: name 'false' is not defined"
     ]
    }
   ],
   "source": [
    "\n",
    "false"
   ]
  },
  {
   "cell_type": "markdown",
   "id": "55af239a",
   "metadata": {},
   "source": [
    "# variable\n",
    "tempat untuk nyimpan data\n",
    "\n",
    "menggunakan A-Z, a-z, 0-9, _\n",
    "ga bisa dimulai dengan angka\n",
    "ga bisa pake special character"
   ]
  },
  {
   "cell_type": "code",
   "execution_count": 33,
   "id": "27e34978",
   "metadata": {},
   "outputs": [],
   "source": [
    "x = 500"
   ]
  },
  {
   "cell_type": "code",
   "execution_count": 34,
   "id": "a03b4833",
   "metadata": {},
   "outputs": [
    {
     "name": "stdout",
     "output_type": "stream",
     "text": [
      "500\n"
     ]
    }
   ],
   "source": [
    "print(x)"
   ]
  },
  {
   "cell_type": "code",
   "execution_count": 35,
   "id": "3cc387d8",
   "metadata": {},
   "outputs": [
    {
     "data": {
      "text/plain": [
       "False"
      ]
     },
     "execution_count": 35,
     "metadata": {},
     "output_type": "execute_result"
    }
   ],
   "source": [
    "x == \"x\""
   ]
  },
  {
   "cell_type": "code",
   "execution_count": 36,
   "id": "be45a59d",
   "metadata": {},
   "outputs": [
    {
     "name": "stdout",
     "output_type": "stream",
     "text": [
      "x\n"
     ]
    }
   ],
   "source": [
    "print(\"x\")"
   ]
  },
  {
   "cell_type": "code",
   "execution_count": 37,
   "id": "96054421",
   "metadata": {},
   "outputs": [
    {
     "ename": "SyntaxError",
     "evalue": "invalid syntax (3910925352.py, line 1)",
     "output_type": "error",
     "traceback": [
      "\u001b[1;36m  File \u001b[1;32m\"C:\\Users\\Lenovo\\AppData\\Local\\Temp\\ipykernel_4852\\3910925352.py\"\u001b[1;36m, line \u001b[1;32m1\u001b[0m\n\u001b[1;33m    x! = 500\u001b[0m\n\u001b[1;37m     ^\u001b[0m\n\u001b[1;31mSyntaxError\u001b[0m\u001b[1;31m:\u001b[0m invalid syntax\n"
     ]
    }
   ],
   "source": [
    "x! = 500"
   ]
  },
  {
   "cell_type": "code",
   "execution_count": 38,
   "id": "c803c3c8",
   "metadata": {},
   "outputs": [
    {
     "ename": "SyntaxError",
     "evalue": "invalid syntax (1240257932.py, line 1)",
     "output_type": "error",
     "traceback": [
      "\u001b[1;36m  File \u001b[1;32m\"C:\\Users\\Lenovo\\AppData\\Local\\Temp\\ipykernel_4852\\1240257932.py\"\u001b[1;36m, line \u001b[1;32m1\u001b[0m\n\u001b[1;33m    5x = 500\u001b[0m\n\u001b[1;37m     ^\u001b[0m\n\u001b[1;31mSyntaxError\u001b[0m\u001b[1;31m:\u001b[0m invalid syntax\n"
     ]
    }
   ],
   "source": [
    "5x = 500"
   ]
  },
  {
   "cell_type": "code",
   "execution_count": 39,
   "id": "810d6cbd",
   "metadata": {},
   "outputs": [],
   "source": [
    "x5 = 500"
   ]
  },
  {
   "cell_type": "code",
   "execution_count": 40,
   "id": "8a060194",
   "metadata": {},
   "outputs": [
    {
     "name": "stdout",
     "output_type": "stream",
     "text": [
      "500\n"
     ]
    }
   ],
   "source": [
    "print(x5)"
   ]
  },
  {
   "cell_type": "code",
   "execution_count": 41,
   "id": "078f5494",
   "metadata": {},
   "outputs": [
    {
     "ename": "SyntaxError",
     "evalue": "cannot assign to operator (4048279955.py, line 1)",
     "output_type": "error",
     "traceback": [
      "\u001b[1;36m  File \u001b[1;32m\"C:\\Users\\Lenovo\\AppData\\Local\\Temp\\ipykernel_4852\\4048279955.py\"\u001b[1;36m, line \u001b[1;32m1\u001b[0m\n\u001b[1;33m    x-5 = 500\u001b[0m\n\u001b[1;37m    ^\u001b[0m\n\u001b[1;31mSyntaxError\u001b[0m\u001b[1;31m:\u001b[0m cannot assign to operator\n"
     ]
    }
   ],
   "source": [
    "x-5 = 500"
   ]
  },
  {
   "cell_type": "code",
   "execution_count": 42,
   "id": "18b49305",
   "metadata": {},
   "outputs": [
    {
     "ename": "SyntaxError",
     "evalue": "invalid syntax (4165307028.py, line 1)",
     "output_type": "error",
     "traceback": [
      "\u001b[1;36m  File \u001b[1;32m\"C:\\Users\\Lenovo\\AppData\\Local\\Temp\\ipykernel_4852\\4165307028.py\"\u001b[1;36m, line \u001b[1;32m1\u001b[0m\n\u001b[1;33m    int x = 500\u001b[0m\n\u001b[1;37m        ^\u001b[0m\n\u001b[1;31mSyntaxError\u001b[0m\u001b[1;31m:\u001b[0m invalid syntax\n"
     ]
    }
   ],
   "source": [
    "int x = 500"
   ]
  },
  {
   "cell_type": "code",
   "execution_count": 43,
   "id": "15afd5f4",
   "metadata": {},
   "outputs": [
    {
     "name": "stdout",
     "output_type": "stream",
     "text": [
      "500\n",
      "<class 'int'>\n"
     ]
    }
   ],
   "source": [
    "x = 500\n",
    "print(x)\n",
    "print(type(x))"
   ]
  },
  {
   "cell_type": "code",
   "execution_count": 44,
   "id": "b114fa3e",
   "metadata": {},
   "outputs": [
    {
     "name": "stdout",
     "output_type": "stream",
     "text": [
      "smith\n",
      "<class 'str'>\n"
     ]
    }
   ],
   "source": [
    "x = \"smith\"\n",
    "print(x)\n",
    "print(type(x))"
   ]
  },
  {
   "cell_type": "code",
   "execution_count": 45,
   "id": "028797ba",
   "metadata": {},
   "outputs": [
    {
     "name": "stdout",
     "output_type": "stream",
     "text": [
      "5 5 5\n"
     ]
    }
   ],
   "source": [
    "x = 5\n",
    "y = 5\n",
    "z = 5\n",
    "print(x, y, z)"
   ]
  },
  {
   "cell_type": "code",
   "execution_count": 46,
   "id": "30e0b9aa",
   "metadata": {},
   "outputs": [
    {
     "name": "stdout",
     "output_type": "stream",
     "text": [
      "15 15 15\n"
     ]
    }
   ],
   "source": [
    "a = b = c = 15\n",
    "print(a, b, c)"
   ]
  },
  {
   "cell_type": "code",
   "execution_count": 47,
   "id": "642306c2",
   "metadata": {},
   "outputs": [
    {
     "data": {
      "text/plain": [
       "int"
      ]
     },
     "execution_count": 47,
     "metadata": {},
     "output_type": "execute_result"
    }
   ],
   "source": [
    "type(x)"
   ]
  },
  {
   "cell_type": "code",
   "execution_count": 48,
   "id": "304d5cc3",
   "metadata": {},
   "outputs": [
    {
     "name": "stdout",
     "output_type": "stream",
     "text": [
      "adi\n",
      "budi\n",
      "charles\n"
     ]
    }
   ],
   "source": [
    "nama_1 = \"adi\"\n",
    "Nama_1 = \"budi\"\n",
    "naMa_1 = \"charles\"\n",
    "\n",
    "print(nama_1)\n",
    "print(Nama_1)\n",
    "print(naMa_1)"
   ]
  },
  {
   "cell_type": "code",
   "execution_count": 49,
   "id": "b1ecf58d",
   "metadata": {},
   "outputs": [],
   "source": [
    "namaMurid = \"john doe\""
   ]
  },
  {
   "cell_type": "code",
   "execution_count": 50,
   "id": "bd0639a3",
   "metadata": {},
   "outputs": [],
   "source": [
    "nama_murid = \"john doe\""
   ]
  },
  {
   "cell_type": "code",
   "execution_count": 51,
   "id": "5eb3ec81",
   "metadata": {},
   "outputs": [
    {
     "ename": "SyntaxError",
     "evalue": "invalid syntax (3729609520.py, line 1)",
     "output_type": "error",
     "traceback": [
      "\u001b[1;36m  File \u001b[1;32m\"C:\\Users\\Lenovo\\AppData\\Local\\Temp\\ipykernel_4852\\3729609520.py\"\u001b[1;36m, line \u001b[1;32m1\u001b[0m\n\u001b[1;33m    BiodataMurid = class()\u001b[0m\n\u001b[1;37m                   ^\u001b[0m\n\u001b[1;31mSyntaxError\u001b[0m\u001b[1;31m:\u001b[0m invalid syntax\n"
     ]
    }
   ],
   "source": [
    "BiodataMurid = class()"
   ]
  },
  {
   "cell_type": "markdown",
   "id": "4c63671d",
   "metadata": {},
   "source": [
    "# Operators\n",
    "+ penambahan\n",
    "- pengurangan\n",
    "/ pembagian (hasil float)\n",
    "// pembagian (hasil int)\n",
    "* pengalian\n",
    "** pangkat\n",
    "% mod (sisa pembagian)"
   ]
  },
  {
   "cell_type": "code",
   "execution_count": 52,
   "id": "cfc81d37",
   "metadata": {},
   "outputs": [
    {
     "name": "stdout",
     "output_type": "stream",
     "text": [
      "15 15\n"
     ]
    }
   ],
   "source": [
    "print(a, b)"
   ]
  },
  {
   "cell_type": "code",
   "execution_count": 53,
   "id": "78a28a9e",
   "metadata": {},
   "outputs": [
    {
     "name": "stdout",
     "output_type": "stream",
     "text": [
      "30\n",
      "30\n",
      "10\n"
     ]
    }
   ],
   "source": [
    "print(15 + 15)\n",
    "print(a + b)\n",
    "print(a - 5)"
   ]
  },
  {
   "cell_type": "code",
   "execution_count": 54,
   "id": "a4d60da5",
   "metadata": {},
   "outputs": [
    {
     "name": "stdout",
     "output_type": "stream",
     "text": [
      "35\n"
     ]
    }
   ],
   "source": [
    "halo = 20\n",
    "print(halo + 15)"
   ]
  },
  {
   "cell_type": "code",
   "execution_count": 55,
   "id": "65eda6c6",
   "metadata": {},
   "outputs": [
    {
     "ename": "TypeError",
     "evalue": "can only concatenate str (not \"int\") to str",
     "output_type": "error",
     "traceback": [
      "\u001b[1;31m---------------------------------------------------------------------------\u001b[0m",
      "\u001b[1;31mTypeError\u001b[0m                                 Traceback (most recent call last)",
      "\u001b[1;32m~\\AppData\\Local\\Temp\\ipykernel_4852\\448182563.py\u001b[0m in \u001b[0;36m<module>\u001b[1;34m\u001b[0m\n\u001b[0;32m      1\u001b[0m \u001b[0mhalo\u001b[0m \u001b[1;33m=\u001b[0m \u001b[1;34m\"goodbye\"\u001b[0m\u001b[1;33m\u001b[0m\u001b[1;33m\u001b[0m\u001b[0m\n\u001b[1;32m----> 2\u001b[1;33m \u001b[0mprint\u001b[0m\u001b[1;33m(\u001b[0m\u001b[0mhalo\u001b[0m \u001b[1;33m+\u001b[0m \u001b[1;36m15\u001b[0m\u001b[1;33m)\u001b[0m\u001b[1;33m\u001b[0m\u001b[1;33m\u001b[0m\u001b[0m\n\u001b[0m",
      "\u001b[1;31mTypeError\u001b[0m: can only concatenate str (not \"int\") to str"
     ]
    }
   ],
   "source": [
    "halo = \"goodbye\"\n",
    "print(halo + 15)"
   ]
  },
  {
   "cell_type": "code",
   "execution_count": 56,
   "id": "9d10498b",
   "metadata": {},
   "outputs": [
    {
     "name": "stdout",
     "output_type": "stream",
     "text": [
      "35.0\n"
     ]
    }
   ],
   "source": [
    "print(15 + 20.0)"
   ]
  },
  {
   "cell_type": "code",
   "execution_count": 57,
   "id": "a1f83c13",
   "metadata": {},
   "outputs": [
    {
     "name": "stdout",
     "output_type": "stream",
     "text": [
      "10.0\n",
      "10\n",
      "6\n"
     ]
    }
   ],
   "source": [
    "print(50 / 5)\n",
    "print(50 // 5)\n",
    "print(50 // 8)"
   ]
  },
  {
   "cell_type": "code",
   "execution_count": 58,
   "id": "994558d9",
   "metadata": {},
   "outputs": [
    {
     "name": "stdout",
     "output_type": "stream",
     "text": [
      "100\n",
      "125.0\n"
     ]
    }
   ],
   "source": [
    "print(50 * 2)\n",
    "print(50 * 2.5)"
   ]
  },
  {
   "cell_type": "code",
   "execution_count": 59,
   "id": "cdfa9f93",
   "metadata": {},
   "outputs": [
    {
     "name": "stdout",
     "output_type": "stream",
     "text": [
      "32\n",
      "8.0\n"
     ]
    }
   ],
   "source": [
    "print(2 ** 5)\n",
    "print(64 ** 0.5)"
   ]
  },
  {
   "cell_type": "code",
   "execution_count": 60,
   "id": "7fa45fdb",
   "metadata": {},
   "outputs": [
    {
     "data": {
      "text/plain": [
       "2"
      ]
     },
     "execution_count": 60,
     "metadata": {},
     "output_type": "execute_result"
    }
   ],
   "source": [
    "50 % 8"
   ]
  },
  {
   "cell_type": "code",
   "execution_count": 61,
   "id": "e563224e",
   "metadata": {},
   "outputs": [
    {
     "data": {
      "text/plain": [
       "44"
      ]
     },
     "execution_count": 61,
     "metadata": {},
     "output_type": "execute_result"
    }
   ],
   "source": [
    "(5 + 10) * 3 - 1 ** (12 - 2)"
   ]
  },
  {
   "cell_type": "markdown",
   "id": "7985430b",
   "metadata": {},
   "source": [
    "Comparison\n",
    "==\n",
    "!=\n",
    "<\n",
    ">\n",
    "<=\n",
    ">="
   ]
  },
  {
   "cell_type": "code",
   "execution_count": 62,
   "id": "5f599bd8",
   "metadata": {},
   "outputs": [],
   "source": [
    "x = 5"
   ]
  },
  {
   "cell_type": "code",
   "execution_count": 63,
   "id": "220e9eb3",
   "metadata": {},
   "outputs": [
    {
     "data": {
      "text/plain": [
       "True"
      ]
     },
     "execution_count": 63,
     "metadata": {},
     "output_type": "execute_result"
    }
   ],
   "source": [
    "x == 5"
   ]
  },
  {
   "cell_type": "code",
   "execution_count": 64,
   "id": "8e7f9e00",
   "metadata": {},
   "outputs": [
    {
     "data": {
      "text/plain": [
       "False"
      ]
     },
     "execution_count": 64,
     "metadata": {},
     "output_type": "execute_result"
    }
   ],
   "source": [
    "x == \"hello\""
   ]
  },
  {
   "cell_type": "code",
   "execution_count": 65,
   "id": "ddc33bf8",
   "metadata": {},
   "outputs": [
    {
     "data": {
      "text/plain": [
       "True"
      ]
     },
     "execution_count": 65,
     "metadata": {},
     "output_type": "execute_result"
    }
   ],
   "source": [
    "x != \"hello\""
   ]
  },
  {
   "cell_type": "code",
   "execution_count": 66,
   "id": "6a2fdd38",
   "metadata": {},
   "outputs": [
    {
     "ename": "TypeError",
     "evalue": "'>' not supported between instances of 'int' and 'str'",
     "output_type": "error",
     "traceback": [
      "\u001b[1;31m---------------------------------------------------------------------------\u001b[0m",
      "\u001b[1;31mTypeError\u001b[0m                                 Traceback (most recent call last)",
      "\u001b[1;32m~\\AppData\\Local\\Temp\\ipykernel_4852\\2736306263.py\u001b[0m in \u001b[0;36m<module>\u001b[1;34m\u001b[0m\n\u001b[1;32m----> 1\u001b[1;33m \u001b[0mx\u001b[0m \u001b[1;33m>\u001b[0m \u001b[1;34m\"hello\"\u001b[0m\u001b[1;33m\u001b[0m\u001b[1;33m\u001b[0m\u001b[0m\n\u001b[0m",
      "\u001b[1;31mTypeError\u001b[0m: '>' not supported between instances of 'int' and 'str'"
     ]
    }
   ],
   "source": [
    "x > \"hello\""
   ]
  },
  {
   "cell_type": "code",
   "execution_count": 67,
   "id": "a88fad2c",
   "metadata": {},
   "outputs": [
    {
     "data": {
      "text/plain": [
       "True"
      ]
     },
     "execution_count": 67,
     "metadata": {},
     "output_type": "execute_result"
    }
   ],
   "source": [
    "5 < 8"
   ]
  },
  {
   "cell_type": "code",
   "execution_count": 68,
   "id": "5a678380",
   "metadata": {},
   "outputs": [
    {
     "ename": "TypeError",
     "evalue": "'<' not supported between instances of 'int' and 'str'",
     "output_type": "error",
     "traceback": [
      "\u001b[1;31m---------------------------------------------------------------------------\u001b[0m",
      "\u001b[1;31mTypeError\u001b[0m                                 Traceback (most recent call last)",
      "\u001b[1;32m~\\AppData\\Local\\Temp\\ipykernel_4852\\3737306139.py\u001b[0m in \u001b[0;36m<module>\u001b[1;34m\u001b[0m\n\u001b[1;32m----> 1\u001b[1;33m \u001b[1;36m0\u001b[0m \u001b[1;33m<\u001b[0m \u001b[1;34m\"a\"\u001b[0m\u001b[1;33m\u001b[0m\u001b[1;33m\u001b[0m\u001b[0m\n\u001b[0m",
      "\u001b[1;31mTypeError\u001b[0m: '<' not supported between instances of 'int' and 'str'"
     ]
    }
   ],
   "source": [
    "0 < \"a\""
   ]
  },
  {
   "cell_type": "code",
   "execution_count": 69,
   "id": "1246aede",
   "metadata": {},
   "outputs": [
    {
     "data": {
      "text/plain": [
       "True"
      ]
     },
     "execution_count": 69,
     "metadata": {},
     "output_type": "execute_result"
    }
   ],
   "source": [
    "'0' < \"a\""
   ]
  },
  {
   "cell_type": "code",
   "execution_count": 70,
   "id": "0e6f81be",
   "metadata": {},
   "outputs": [
    {
     "data": {
      "text/plain": [
       "str"
      ]
     },
     "execution_count": 70,
     "metadata": {},
     "output_type": "execute_result"
    }
   ],
   "source": [
    "type(\"ars!@#:\\|{><})\")"
   ]
  },
  {
   "cell_type": "code",
   "execution_count": 71,
   "id": "6b0671d6",
   "metadata": {},
   "outputs": [
    {
     "data": {
      "text/plain": [
       "True"
      ]
     },
     "execution_count": 71,
     "metadata": {},
     "output_type": "execute_result"
    }
   ],
   "source": [
    "\"A\" < \"a\""
   ]
  },
  {
   "cell_type": "code",
   "execution_count": 72,
   "id": "fef036e5",
   "metadata": {},
   "outputs": [
    {
     "data": {
      "text/plain": [
       "True"
      ]
     },
     "execution_count": 72,
     "metadata": {},
     "output_type": "execute_result"
    }
   ],
   "source": [
    "\"a\" < \"h\""
   ]
  },
  {
   "cell_type": "code",
   "execution_count": 73,
   "id": "b6b592c3",
   "metadata": {},
   "outputs": [
    {
     "name": "stdout",
     "output_type": "stream",
     "text": [
      "False\n",
      "True\n"
     ]
    }
   ],
   "source": [
    "print(\"ape\" > \"hotel\")\n",
    "print(\"ape\" < \"hotel\")"
   ]
  },
  {
   "cell_type": "code",
   "execution_count": 74,
   "id": "0133b2d7",
   "metadata": {},
   "outputs": [
    {
     "name": "stdout",
     "output_type": "stream",
     "text": [
      "False\n",
      "True\n"
     ]
    }
   ],
   "source": [
    "print(\"hello\" > \"tv\")\n",
    "print(\"hello\" < \"tv\")"
   ]
  },
  {
   "cell_type": "code",
   "execution_count": 75,
   "id": "90128247",
   "metadata": {},
   "outputs": [
    {
     "data": {
      "text/plain": [
       "True"
      ]
     },
     "execution_count": 75,
     "metadata": {},
     "output_type": "execute_result"
    }
   ],
   "source": [
    "True == True"
   ]
  },
  {
   "cell_type": "code",
   "execution_count": 76,
   "id": "bc9ea76e",
   "metadata": {},
   "outputs": [
    {
     "data": {
      "text/plain": [
       "False"
      ]
     },
     "execution_count": 76,
     "metadata": {},
     "output_type": "execute_result"
    }
   ],
   "source": [
    "True == False"
   ]
  },
  {
   "cell_type": "code",
   "execution_count": 77,
   "id": "e4ac7dac",
   "metadata": {},
   "outputs": [
    {
     "data": {
      "text/plain": [
       "True"
      ]
     },
     "execution_count": 77,
     "metadata": {},
     "output_type": "execute_result"
    }
   ],
   "source": [
    "True != False"
   ]
  },
  {
   "cell_type": "code",
   "execution_count": 78,
   "id": "c2abec13",
   "metadata": {},
   "outputs": [
    {
     "data": {
      "text/plain": [
       "True"
      ]
     },
     "execution_count": 78,
     "metadata": {},
     "output_type": "execute_result"
    }
   ],
   "source": [
    "False == False"
   ]
  },
  {
   "cell_type": "markdown",
   "id": "b9e3e3bd",
   "metadata": {},
   "source": [
    "# String"
   ]
  },
  {
   "cell_type": "code",
   "execution_count": 79,
   "id": "62e6d063",
   "metadata": {},
   "outputs": [
    {
     "ename": "TypeError",
     "evalue": "can only concatenate str (not \"int\") to str",
     "output_type": "error",
     "traceback": [
      "\u001b[1;31m---------------------------------------------------------------------------\u001b[0m",
      "\u001b[1;31mTypeError\u001b[0m                                 Traceback (most recent call last)",
      "\u001b[1;32m~\\AppData\\Local\\Temp\\ipykernel_4852\\2572526635.py\u001b[0m in \u001b[0;36m<module>\u001b[1;34m\u001b[0m\n\u001b[1;32m----> 1\u001b[1;33m \u001b[1;34m\"a\"\u001b[0m \u001b[1;33m+\u001b[0m \u001b[1;36m5\u001b[0m\u001b[1;33m\u001b[0m\u001b[1;33m\u001b[0m\u001b[0m\n\u001b[0m",
      "\u001b[1;31mTypeError\u001b[0m: can only concatenate str (not \"int\") to str"
     ]
    }
   ],
   "source": [
    "\"a\" + 5"
   ]
  },
  {
   "cell_type": "code",
   "execution_count": 80,
   "id": "4608529c",
   "metadata": {},
   "outputs": [
    {
     "data": {
      "text/plain": [
       "'ab'"
      ]
     },
     "execution_count": 80,
     "metadata": {},
     "output_type": "execute_result"
    }
   ],
   "source": [
    "\"a\" + \"b\""
   ]
  },
  {
   "cell_type": "code",
   "execution_count": 81,
   "id": "a7a5a799",
   "metadata": {},
   "outputs": [
    {
     "data": {
      "text/plain": [
       "'aaaaa'"
      ]
     },
     "execution_count": 81,
     "metadata": {},
     "output_type": "execute_result"
    }
   ],
   "source": [
    "\"a\" * 5"
   ]
  },
  {
   "cell_type": "code",
   "execution_count": 82,
   "id": "10d22402",
   "metadata": {},
   "outputs": [
    {
     "name": "stdout",
     "output_type": "stream",
     "text": [
      "jalan section A\n",
      "50 + 50 =  100\n",
      "================================================================================\n",
      "jalan section B\n"
     ]
    }
   ],
   "source": [
    "print(\"jalan section A\")\n",
    "print(\"50 + 50 = \", 50 + 50)\n",
    "print(\"=\" * 80) \n",
    "print(\"jalan section B\")"
   ]
  },
  {
   "cell_type": "code",
   "execution_count": 83,
   "id": "080fe765",
   "metadata": {},
   "outputs": [
    {
     "name": "stdout",
     "output_type": "stream",
     "text": [
      "foobar\n"
     ]
    }
   ],
   "source": [
    "print(\"foo\" + \"bar\")"
   ]
  },
  {
   "cell_type": "code",
   "execution_count": 84,
   "id": "85ab80a3",
   "metadata": {},
   "outputs": [
    {
     "name": "stdout",
     "output_type": "stream",
     "text": [
      "saya\n"
     ]
    }
   ],
   "source": [
    "a = \"sa\"\n",
    "b = \"ya\"\n",
    "print(a + b)"
   ]
  },
  {
   "cell_type": "code",
   "execution_count": 85,
   "id": "781b92d7",
   "metadata": {},
   "outputs": [
    {
     "name": "stdout",
     "output_type": "stream",
     "text": [
      "sa sa sa sa sa \n"
     ]
    }
   ],
   "source": [
    "print(\"sa \" * 5)"
   ]
  },
  {
   "cell_type": "code",
   "execution_count": 86,
   "id": "942f83d5",
   "metadata": {},
   "outputs": [
    {
     "data": {
      "text/plain": [
       "True"
      ]
     },
     "execution_count": 86,
     "metadata": {},
     "output_type": "execute_result"
    }
   ],
   "source": [
    "a in \"saya mau makan\""
   ]
  },
  {
   "cell_type": "code",
   "execution_count": 87,
   "id": "18f2005c",
   "metadata": {},
   "outputs": [],
   "source": [
    "kalimat = \"saYa mAu mAKan\""
   ]
  },
  {
   "cell_type": "code",
   "execution_count": 88,
   "id": "8672dbad",
   "metadata": {},
   "outputs": [
    {
     "data": {
      "text/plain": [
       "'Saya mau makan'"
      ]
     },
     "execution_count": 88,
     "metadata": {},
     "output_type": "execute_result"
    }
   ],
   "source": [
    "kalimat.capitalize()"
   ]
  },
  {
   "cell_type": "code",
   "execution_count": 89,
   "id": "965965cb",
   "metadata": {},
   "outputs": [
    {
     "data": {
      "text/plain": [
       "'sxYx mAu mAKxn'"
      ]
     },
     "execution_count": 89,
     "metadata": {},
     "output_type": "execute_result"
    }
   ],
   "source": [
    "kalimat.replace(\"a\", \"x\")"
   ]
  },
  {
   "cell_type": "code",
   "execution_count": 90,
   "id": "ec1db473",
   "metadata": {},
   "outputs": [
    {
     "data": {
      "text/plain": [
       "'Saya mau makan'"
      ]
     },
     "execution_count": 90,
     "metadata": {},
     "output_type": "execute_result"
    }
   ],
   "source": [
    "str.capitalize(kalimat)"
   ]
  },
  {
   "cell_type": "code",
   "execution_count": 91,
   "id": "1f7fa75d",
   "metadata": {},
   "outputs": [
    {
     "data": {
      "text/plain": [
       "'SAYA MAU MAKAN'"
      ]
     },
     "execution_count": 91,
     "metadata": {},
     "output_type": "execute_result"
    }
   ],
   "source": [
    "kalimat.upper()"
   ]
  },
  {
   "cell_type": "code",
   "execution_count": 92,
   "id": "fae0f00e",
   "metadata": {},
   "outputs": [
    {
     "data": {
      "text/plain": [
       "'saya mau makan'"
      ]
     },
     "execution_count": 92,
     "metadata": {},
     "output_type": "execute_result"
    }
   ],
   "source": [
    "kalimat.lower()"
   ]
  },
  {
   "cell_type": "code",
   "execution_count": 93,
   "id": "b3b81c8d",
   "metadata": {},
   "outputs": [
    {
     "data": {
      "text/plain": [
       "'SAyA MaU MakAN'"
      ]
     },
     "execution_count": 93,
     "metadata": {},
     "output_type": "execute_result"
    }
   ],
   "source": [
    "kalimat.swapcase()"
   ]
  },
  {
   "cell_type": "code",
   "execution_count": 94,
   "id": "2fbf26d9",
   "metadata": {},
   "outputs": [
    {
     "data": {
      "text/plain": [
       "'Saya Mau Makan'"
      ]
     },
     "execution_count": 94,
     "metadata": {},
     "output_type": "execute_result"
    }
   ],
   "source": [
    "kalimat.title()"
   ]
  },
  {
   "cell_type": "code",
   "execution_count": 95,
   "id": "e16537b6",
   "metadata": {},
   "outputs": [
    {
     "ename": "SyntaxError",
     "evalue": "invalid syntax (313715520.py, line 1)",
     "output_type": "error",
     "traceback": [
      "\u001b[1;36m  File \u001b[1;32m\"C:\\Users\\Lenovo\\AppData\\Local\\Temp\\ipykernel_4852\\313715520.py\"\u001b[1;36m, line \u001b[1;32m1\u001b[0m\n\u001b[1;33m    kalimat.\u001b[0m\n\u001b[1;37m            ^\u001b[0m\n\u001b[1;31mSyntaxError\u001b[0m\u001b[1;31m:\u001b[0m invalid syntax\n"
     ]
    }
   ],
   "source": [
    "kalimat."
   ]
  },
  {
   "cell_type": "markdown",
   "id": "86935dd7",
   "metadata": {},
   "source": [
    "# LISTS\n",
    "daftar dari apapun (str, float, int, dict, list)\n",
    "ngurut\n",
    "mutable\n",
    "bisa diakses dengan index\n",
    "[ ]"
   ]
  },
  {
   "cell_type": "code",
   "execution_count": 96,
   "id": "d7162903",
   "metadata": {},
   "outputs": [
    {
     "name": "stdout",
     "output_type": "stream",
     "text": [
      "['apel', 'pisang', 'durian', 'jeruk', 'semangka', 'salak']\n",
      "['mobil', 'motor', 'angkot', 'bus']\n"
     ]
    }
   ],
   "source": [
    "a = [\"apel\", \"pisang\", \"durian\", \"jeruk\", \"semangka\", \"salak\"]\n",
    "b = [\"mobil\", \"motor\", \"angkot\", \"bus\"]\n",
    "\n",
    "print(a)\n",
    "print(b)"
   ]
  },
  {
   "cell_type": "code",
   "execution_count": 97,
   "id": "48fd5a54",
   "metadata": {},
   "outputs": [],
   "source": [
    "c = ['apel', 45, True, [\"merah\", \"biru\", \"hijau\"]]"
   ]
  },
  {
   "cell_type": "code",
   "execution_count": 98,
   "id": "d8068593",
   "metadata": {},
   "outputs": [
    {
     "name": "stdout",
     "output_type": "stream",
     "text": [
      "apel\n",
      "45\n",
      "True\n",
      "['merah', 'biru', 'hijau']\n"
     ]
    }
   ],
   "source": [
    "print(c[0])\n",
    "print(c[1])\n",
    "print(c[2])\n",
    "print(c[3])"
   ]
  },
  {
   "cell_type": "code",
   "execution_count": 99,
   "id": "b7996cbd",
   "metadata": {},
   "outputs": [
    {
     "data": {
      "text/plain": [
       "False"
      ]
     },
     "execution_count": 99,
     "metadata": {},
     "output_type": "execute_result"
    }
   ],
   "source": [
    "a == b"
   ]
  },
  {
   "cell_type": "code",
   "execution_count": 100,
   "id": "e53cd746",
   "metadata": {},
   "outputs": [
    {
     "data": {
      "text/plain": [
       "'durian'"
      ]
     },
     "execution_count": 100,
     "metadata": {},
     "output_type": "execute_result"
    }
   ],
   "source": [
    "a[2]"
   ]
  },
  {
   "cell_type": "code",
   "execution_count": 101,
   "id": "a4e448f7",
   "metadata": {},
   "outputs": [
    {
     "ename": "SyntaxError",
     "evalue": "invalid syntax (324131258.py, line 1)",
     "output_type": "error",
     "traceback": [
      "\u001b[1;36m  File \u001b[1;32m\"C:\\Users\\Lenovo\\AppData\\Local\\Temp\\ipykernel_4852\\324131258.py\"\u001b[1;36m, line \u001b[1;32m1\u001b[0m\n\u001b[1;33m    0 1 2 3 4\u001b[0m\n\u001b[1;37m      ^\u001b[0m\n\u001b[1;31mSyntaxError\u001b[0m\u001b[1;31m:\u001b[0m invalid syntax\n"
     ]
    }
   ],
   "source": [
    "0 1 2 3 4"
   ]
  },
  {
   "cell_type": "code",
   "execution_count": 102,
   "id": "4fd52d66",
   "metadata": {},
   "outputs": [
    {
     "ename": "SyntaxError",
     "evalue": "invalid syntax (424908502.py, line 1)",
     "output_type": "error",
     "traceback": [
      "\u001b[1;36m  File \u001b[1;32m\"C:\\Users\\Lenovo\\AppData\\Local\\Temp\\ipykernel_4852\\424908502.py\"\u001b[1;36m, line \u001b[1;32m1\u001b[0m\n\u001b[1;33m    -5 -4 -3 -2 -1 0 1 2 3 4 5\u001b[0m\n\u001b[1;37m                   ^\u001b[0m\n\u001b[1;31mSyntaxError\u001b[0m\u001b[1;31m:\u001b[0m invalid syntax\n"
     ]
    }
   ],
   "source": [
    "-5 -4 -3 -2 -1 0 1 2 3 4 5"
   ]
  },
  {
   "cell_type": "code",
   "execution_count": 103,
   "id": "d193e199",
   "metadata": {},
   "outputs": [
    {
     "ename": "SyntaxError",
     "evalue": "invalid syntax (1295736661.py, line 1)",
     "output_type": "error",
     "traceback": [
      "\u001b[1;36m  File \u001b[1;32m\"C:\\Users\\Lenovo\\AppData\\Local\\Temp\\ipykernel_4852\\1295736661.py\"\u001b[1;36m, line \u001b[1;32m1\u001b[0m\n\u001b[1;33m    a   b  c  d  e  f\u001b[0m\n\u001b[1;37m        ^\u001b[0m\n\u001b[1;31mSyntaxError\u001b[0m\u001b[1;31m:\u001b[0m invalid syntax\n"
     ]
    }
   ],
   "source": [
    "a   b  c  d  e  f\n",
    "0   1  2  3  4  5\n",
    "-6 -5 -4 -3 -2 -1"
   ]
  },
  {
   "cell_type": "code",
   "execution_count": 104,
   "id": "d2bb0640",
   "metadata": {},
   "outputs": [
    {
     "data": {
      "text/plain": [
       "['apel', 'pisang', 'durian', 'jeruk', 'semangka', 'salak']"
      ]
     },
     "execution_count": 104,
     "metadata": {},
     "output_type": "execute_result"
    }
   ],
   "source": [
    "a"
   ]
  },
  {
   "cell_type": "code",
   "execution_count": 105,
   "id": "4fa8f698",
   "metadata": {},
   "outputs": [
    {
     "name": "stdout",
     "output_type": "stream",
     "text": [
      "durian\n",
      "jeruk\n",
      "semangka\n",
      "salak\n",
      "apel\n",
      "pisang\n",
      "durian\n",
      "jeruk\n"
     ]
    }
   ],
   "source": [
    "print(a[-4])\n",
    "print(a[-3])\n",
    "print(a[-2])\n",
    "print(a[-1])\n",
    "print(a[0])\n",
    "print(a[1])\n",
    "print(a[2])\n",
    "print(a[3])"
   ]
  },
  {
   "cell_type": "code",
   "execution_count": 106,
   "id": "9ee453d2",
   "metadata": {},
   "outputs": [
    {
     "data": {
      "text/plain": [
       "['apel', 'pisang', 'durian', 'jeruk', 'semangka', 'salak']"
      ]
     },
     "execution_count": 106,
     "metadata": {},
     "output_type": "execute_result"
    }
   ],
   "source": [
    "a"
   ]
  },
  {
   "cell_type": "code",
   "execution_count": 108,
   "id": "d4a44934",
   "metadata": {},
   "outputs": [
    {
     "ename": "NameError",
     "evalue": "name 'start' is not defined",
     "output_type": "error",
     "traceback": [
      "\u001b[1;31m---------------------------------------------------------------------------\u001b[0m",
      "\u001b[1;31mNameError\u001b[0m                                 Traceback (most recent call last)",
      "\u001b[1;32m~\\AppData\\Local\\Temp\\ipykernel_4852\\1341954118.py\u001b[0m in \u001b[0;36m<module>\u001b[1;34m\u001b[0m\n\u001b[0;32m      1\u001b[0m \u001b[0ma\u001b[0m\u001b[1;33m[\u001b[0m\u001b[1;36m0\u001b[0m\u001b[1;33m:\u001b[0m\u001b[1;36m2\u001b[0m\u001b[1;33m]\u001b[0m\u001b[1;33m\u001b[0m\u001b[1;33m\u001b[0m\u001b[0m\n\u001b[1;32m----> 2\u001b[1;33m \u001b[0mlist\u001b[0m\u001b[1;33m[\u001b[0m\u001b[0mstart\u001b[0m \u001b[1;33m(\u001b[0m\u001b[0minclusive\u001b[0m\u001b[1;33m)\u001b[0m\u001b[1;33m:\u001b[0m \u001b[0mstop\u001b[0m\u001b[1;33m(\u001b[0m\u001b[0mexclusive\u001b[0m\u001b[1;33m)\u001b[0m\u001b[1;33m]\u001b[0m\u001b[1;33m\u001b[0m\u001b[1;33m\u001b[0m\u001b[0m\n\u001b[0m",
      "\u001b[1;31mNameError\u001b[0m: name 'start' is not defined"
     ]
    }
   ],
   "source": [
    "a[0:2]\n",
    "list[start (inclusive): stop(exclusive)]"
   ]
  },
  {
   "cell_type": "code",
   "execution_count": 109,
   "id": "2c9a3dc0",
   "metadata": {},
   "outputs": [
    {
     "data": {
      "text/plain": [
       "True"
      ]
     },
     "execution_count": 109,
     "metadata": {},
     "output_type": "execute_result"
    }
   ],
   "source": [
    "0.2 == .2"
   ]
  },
  {
   "cell_type": "code",
   "execution_count": 110,
   "id": "eb3e8eec",
   "metadata": {},
   "outputs": [
    {
     "data": {
      "text/plain": [
       "['jeruk', 'semangka']"
      ]
     },
     "execution_count": 110,
     "metadata": {},
     "output_type": "execute_result"
    }
   ],
   "source": [
    "a[3:5]"
   ]
  },
  {
   "cell_type": "code",
   "execution_count": 111,
   "id": "70efa253",
   "metadata": {},
   "outputs": [
    {
     "data": {
      "text/plain": [
       "['apel', 'pisang', 'durian']"
      ]
     },
     "execution_count": 111,
     "metadata": {},
     "output_type": "execute_result"
    }
   ],
   "source": [
    "a[0:3]"
   ]
  },
  {
   "cell_type": "code",
   "execution_count": 112,
   "id": "69654397",
   "metadata": {},
   "outputs": [
    {
     "data": {
      "text/plain": [
       "['apel', 'pisang', 'durian']"
      ]
     },
     "execution_count": 112,
     "metadata": {},
     "output_type": "execute_result"
    }
   ],
   "source": [
    "a[:3]"
   ]
  },
  {
   "cell_type": "code",
   "execution_count": 113,
   "id": "3a0e1fc0",
   "metadata": {},
   "outputs": [
    {
     "data": {
      "text/plain": [
       "['pisang', 'durian', 'jeruk', 'semangka', 'salak']"
      ]
     },
     "execution_count": 113,
     "metadata": {},
     "output_type": "execute_result"
    }
   ],
   "source": [
    "a[1:]"
   ]
  },
  {
   "cell_type": "code",
   "execution_count": 114,
   "id": "830d8439",
   "metadata": {},
   "outputs": [
    {
     "data": {
      "text/plain": [
       "['apel', 'pisang', 'durian', 'jeruk', 'semangka']"
      ]
     },
     "execution_count": 114,
     "metadata": {},
     "output_type": "execute_result"
    }
   ],
   "source": [
    "a[:-1]"
   ]
  },
  {
   "cell_type": "code",
   "execution_count": 115,
   "id": "9cb131ff",
   "metadata": {},
   "outputs": [
    {
     "data": {
      "text/plain": [
       "['jeruk', 'semangka', 'salak']"
      ]
     },
     "execution_count": 115,
     "metadata": {},
     "output_type": "execute_result"
    }
   ],
   "source": [
    "a[-3:]"
   ]
  },
  {
   "cell_type": "code",
   "execution_count": 116,
   "id": "b8c9fd74",
   "metadata": {},
   "outputs": [
    {
     "data": {
      "text/plain": [
       "['apel', 'pisang', 'durian']"
      ]
     },
     "execution_count": 116,
     "metadata": {},
     "output_type": "execute_result"
    }
   ],
   "source": [
    "a[:3]"
   ]
  },
  {
   "cell_type": "code",
   "execution_count": 117,
   "id": "3a03e040",
   "metadata": {},
   "outputs": [
    {
     "data": {
      "text/plain": [
       "['durian', 'jeruk']"
      ]
     },
     "execution_count": 117,
     "metadata": {},
     "output_type": "execute_result"
    }
   ],
   "source": [
    "a[2:-2]"
   ]
  },
  {
   "cell_type": "code",
   "execution_count": 118,
   "id": "df735456",
   "metadata": {},
   "outputs": [
    {
     "data": {
      "text/plain": [
       "['apel', 'pisang', 'durian', 'jeruk', 'semangka', 'salak']"
      ]
     },
     "execution_count": 118,
     "metadata": {},
     "output_type": "execute_result"
    }
   ],
   "source": [
    "a"
   ]
  },
  {
   "cell_type": "code",
   "execution_count": 119,
   "id": "af7a2ed2",
   "metadata": {},
   "outputs": [
    {
     "data": {
      "text/plain": [
       "['durian', 'jeruk', 'semangka']"
      ]
     },
     "execution_count": 119,
     "metadata": {},
     "output_type": "execute_result"
    }
   ],
   "source": [
    "a[2:5]"
   ]
  },
  {
   "cell_type": "code",
   "execution_count": 120,
   "id": "657d432d",
   "metadata": {},
   "outputs": [
    {
     "data": {
      "text/plain": [
       "['durian', 'jeruk', 'semangka']"
      ]
     },
     "execution_count": 120,
     "metadata": {},
     "output_type": "execute_result"
    }
   ],
   "source": [
    "a[2:-1]"
   ]
  },
  {
   "cell_type": "code",
   "execution_count": 121,
   "id": "004ae606",
   "metadata": {},
   "outputs": [
    {
     "data": {
      "text/plain": [
       "'a mAu mA'"
      ]
     },
     "execution_count": 121,
     "metadata": {},
     "output_type": "execute_result"
    }
   ],
   "source": [
    "kalimat[3:-3]"
   ]
  },
  {
   "cell_type": "code",
   "execution_count": 122,
   "id": "af0720e5",
   "metadata": {},
   "outputs": [
    {
     "data": {
      "text/plain": [
       "'saYa mAu mAKan'"
      ]
     },
     "execution_count": 122,
     "metadata": {},
     "output_type": "execute_result"
    }
   ],
   "source": [
    "kalimat"
   ]
  },
  {
   "cell_type": "code",
   "execution_count": 123,
   "id": "939aa7fd",
   "metadata": {},
   "outputs": [
    {
     "name": "stdout",
     "output_type": "stream",
     "text": [
      "14\n",
      "6\n"
     ]
    }
   ],
   "source": [
    "print(len(kalimat))\n",
    "print(len(a))"
   ]
  },
  {
   "cell_type": "code",
   "execution_count": 124,
   "id": "113a3e73",
   "metadata": {},
   "outputs": [
    {
     "data": {
      "text/plain": [
       "['apel', 45, True, ['merah', 'biru', 'hijau']]"
      ]
     },
     "execution_count": 124,
     "metadata": {},
     "output_type": "execute_result"
    }
   ],
   "source": [
    "c"
   ]
  },
  {
   "cell_type": "code",
   "execution_count": 125,
   "id": "a6a1a146",
   "metadata": {},
   "outputs": [
    {
     "name": "stdout",
     "output_type": "stream",
     "text": [
      "4\n"
     ]
    }
   ],
   "source": [
    "print(len(c))"
   ]
  },
  {
   "cell_type": "code",
   "execution_count": 126,
   "id": "b5c23309",
   "metadata": {},
   "outputs": [
    {
     "data": {
      "text/plain": [
       "['apel', 'pisang', 'durian', 'jeruk', 'semangka', 'salak']"
      ]
     },
     "execution_count": 126,
     "metadata": {},
     "output_type": "execute_result"
    }
   ],
   "source": [
    "a"
   ]
  },
  {
   "cell_type": "code",
   "execution_count": 127,
   "id": "a2ecfc19",
   "metadata": {},
   "outputs": [],
   "source": [
    "a[2] = \"makanan\""
   ]
  },
  {
   "cell_type": "code",
   "execution_count": 128,
   "id": "81b6b60d",
   "metadata": {},
   "outputs": [
    {
     "data": {
      "text/plain": [
       "['apel', 'pisang', 'makanan', 'jeruk', 'semangka', 'salak']"
      ]
     },
     "execution_count": 128,
     "metadata": {},
     "output_type": "execute_result"
    }
   ],
   "source": [
    "a"
   ]
  },
  {
   "cell_type": "code",
   "execution_count": 129,
   "id": "104e37d4",
   "metadata": {},
   "outputs": [
    {
     "data": {
      "text/plain": [
       "'saYa mAu mAKan'"
      ]
     },
     "execution_count": 129,
     "metadata": {},
     "output_type": "execute_result"
    }
   ],
   "source": [
    "kalimat"
   ]
  },
  {
   "cell_type": "code",
   "execution_count": 130,
   "id": "5beb2701",
   "metadata": {},
   "outputs": [
    {
     "ename": "SyntaxError",
     "evalue": "invalid syntax (1450100084.py, line 1)",
     "output_type": "error",
     "traceback": [
      "\u001b[1;36m  File \u001b[1;32m\"C:\\Users\\Lenovo\\AppData\\Local\\Temp\\ipykernel_4852\\1450100084.py\"\u001b[1;36m, line \u001b[1;32m1\u001b[0m\n\u001b[1;33m    immutable vs mutable\u001b[0m\n\u001b[1;37m              ^\u001b[0m\n\u001b[1;31mSyntaxError\u001b[0m\u001b[1;31m:\u001b[0m invalid syntax\n"
     ]
    }
   ],
   "source": [
    "immutable vs mutable\n",
    "str vs          list"
   ]
  },
  {
   "cell_type": "code",
   "execution_count": 131,
   "id": "cc9de0a6",
   "metadata": {},
   "outputs": [
    {
     "ename": "TypeError",
     "evalue": "'str' object does not support item assignment",
     "output_type": "error",
     "traceback": [
      "\u001b[1;31m---------------------------------------------------------------------------\u001b[0m",
      "\u001b[1;31mTypeError\u001b[0m                                 Traceback (most recent call last)",
      "\u001b[1;32m~\\AppData\\Local\\Temp\\ipykernel_4852\\85602962.py\u001b[0m in \u001b[0;36m<module>\u001b[1;34m\u001b[0m\n\u001b[1;32m----> 1\u001b[1;33m \u001b[0mkalimat\u001b[0m\u001b[1;33m[\u001b[0m\u001b[1;36m5\u001b[0m\u001b[1;33m]\u001b[0m \u001b[1;33m=\u001b[0m \u001b[1;34m\"X\"\u001b[0m\u001b[1;33m\u001b[0m\u001b[1;33m\u001b[0m\u001b[0m\n\u001b[0m",
      "\u001b[1;31mTypeError\u001b[0m: 'str' object does not support item assignment"
     ]
    }
   ],
   "source": [
    "kalimat[5] = \"X\""
   ]
  },
  {
   "cell_type": "code",
   "execution_count": 132,
   "id": "a7d48fd3",
   "metadata": {},
   "outputs": [
    {
     "data": {
      "text/plain": [
       "['apel', 'pisang', 'makanan', 'jeruk', 'semangka', 'salak']"
      ]
     },
     "execution_count": 132,
     "metadata": {},
     "output_type": "execute_result"
    }
   ],
   "source": [
    "a"
   ]
  },
  {
   "cell_type": "code",
   "execution_count": 133,
   "id": "47e8b331",
   "metadata": {},
   "outputs": [],
   "source": [
    "a[-2:] = [5, 8]"
   ]
  },
  {
   "cell_type": "code",
   "execution_count": 134,
   "id": "cd5d2da7",
   "metadata": {},
   "outputs": [
    {
     "data": {
      "text/plain": [
       "['apel', 'pisang', 'makanan', 'jeruk', 5, 8]"
      ]
     },
     "execution_count": 134,
     "metadata": {},
     "output_type": "execute_result"
    }
   ],
   "source": [
    "a"
   ]
  },
  {
   "cell_type": "code",
   "execution_count": 135,
   "id": "1af1eeb4",
   "metadata": {},
   "outputs": [],
   "source": [
    "a[:3] = [2, 4]"
   ]
  },
  {
   "cell_type": "code",
   "execution_count": 136,
   "id": "0b0dda1f",
   "metadata": {},
   "outputs": [
    {
     "data": {
      "text/plain": [
       "[2, 4, 'jeruk', 5, 8]"
      ]
     },
     "execution_count": 136,
     "metadata": {},
     "output_type": "execute_result"
    }
   ],
   "source": [
    "a"
   ]
  },
  {
   "cell_type": "markdown",
   "id": "7657eda9",
   "metadata": {},
   "source": [
    "# Tuples\n",
    "immutable\n",
    "()"
   ]
  },
  {
   "cell_type": "code",
   "execution_count": 137,
   "id": "5ab2e4b5",
   "metadata": {},
   "outputs": [],
   "source": [
    "buah_tup = ('apel', 'pisang', 'durian', 'jeruk', 'semangka', 'salak')"
   ]
  },
  {
   "cell_type": "code",
   "execution_count": 138,
   "id": "0b54a295",
   "metadata": {},
   "outputs": [
    {
     "ename": "TypeError",
     "evalue": "'tuple' object does not support item assignment",
     "output_type": "error",
     "traceback": [
      "\u001b[1;31m---------------------------------------------------------------------------\u001b[0m",
      "\u001b[1;31mTypeError\u001b[0m                                 Traceback (most recent call last)",
      "\u001b[1;32m~\\AppData\\Local\\Temp\\ipykernel_4852\\2024813132.py\u001b[0m in \u001b[0;36m<module>\u001b[1;34m\u001b[0m\n\u001b[1;32m----> 1\u001b[1;33m \u001b[0mbuah_tup\u001b[0m\u001b[1;33m[\u001b[0m\u001b[1;36m0\u001b[0m\u001b[1;33m]\u001b[0m \u001b[1;33m=\u001b[0m \u001b[1;34m\"makanan\"\u001b[0m\u001b[1;33m\u001b[0m\u001b[1;33m\u001b[0m\u001b[0m\n\u001b[0m",
      "\u001b[1;31mTypeError\u001b[0m: 'tuple' object does not support item assignment"
     ]
    }
   ],
   "source": [
    "buah_tup[0] = \"makanan\""
   ]
  },
  {
   "cell_type": "markdown",
   "id": "5c2a80b5",
   "metadata": {},
   "source": [
    "# dictionary\n",
    "[] list\n",
    "() tuples\n",
    "{} dict\n",
    "pairing key dan value\n",
    "key harus unik\n",
    "mutable\n",
    "no indexing"
   ]
  },
  {
   "cell_type": "code",
   "execution_count": 139,
   "id": "20a7305a",
   "metadata": {},
   "outputs": [
    {
     "ename": "NameError",
     "evalue": "name 'buah_warna' is not defined",
     "output_type": "error",
     "traceback": [
      "\u001b[1;31m---------------------------------------------------------------------------\u001b[0m",
      "\u001b[1;31mNameError\u001b[0m                                 Traceback (most recent call last)",
      "\u001b[1;32m~\\AppData\\Local\\Temp\\ipykernel_4852\\1966246039.py\u001b[0m in \u001b[0;36m<module>\u001b[1;34m\u001b[0m\n\u001b[1;32m----> 1\u001b[1;33m \u001b[0mbuah_warna\u001b[0m\u001b[1;33m[\u001b[0m\u001b[1;36m0\u001b[0m\u001b[1;33m]\u001b[0m\u001b[1;33m\u001b[0m\u001b[1;33m\u001b[0m\u001b[0m\n\u001b[0m",
      "\u001b[1;31mNameError\u001b[0m: name 'buah_warna' is not defined"
     ]
    }
   ],
   "source": [
    "buah_warna[0]"
   ]
  },
  {
   "cell_type": "code",
   "execution_count": 140,
   "id": "0263a197",
   "metadata": {},
   "outputs": [],
   "source": [
    "x = ['apel', 'pisang', 'durian', 'jeruk', 'semangka', 'salak','salak', 'salak',\n",
    " 'salak',\n",
    " 'salak',\n",
    " 'salak',\n",
    " 'apel']\n"
   ]
  },
  {
   "cell_type": "code",
   "execution_count": 141,
   "id": "35d93d65",
   "metadata": {},
   "outputs": [
    {
     "data": {
      "text/plain": [
       "['apel',\n",
       " 'pisang',\n",
       " 'durian',\n",
       " 'jeruk',\n",
       " 'semangka',\n",
       " 'salak',\n",
       " 'salak',\n",
       " 'salak',\n",
       " 'salak',\n",
       " 'salak',\n",
       " 'salak',\n",
       " 'apel']"
      ]
     },
     "execution_count": 141,
     "metadata": {},
     "output_type": "execute_result"
    }
   ],
   "source": [
    "x"
   ]
  },
  {
   "cell_type": "code",
   "execution_count": 142,
   "id": "d9551c13",
   "metadata": {},
   "outputs": [],
   "source": [
    "buah_warna = {\"apel\": \"merah\", \"pisang\": \"kuning\", \"durian\": \"hijau\", \"salak\": \"coklat\", 0: \"aneh\", \"darah\": \"merah\"}"
   ]
  },
  {
   "cell_type": "code",
   "execution_count": 143,
   "id": "cebd07f2",
   "metadata": {},
   "outputs": [
    {
     "data": {
      "text/plain": [
       "{'apel': 'merah',\n",
       " 'pisang': 'kuning',\n",
       " 'durian': 'hijau',\n",
       " 'salak': 'coklat',\n",
       " 0: 'aneh',\n",
       " 'darah': 'merah'}"
      ]
     },
     "execution_count": 143,
     "metadata": {},
     "output_type": "execute_result"
    }
   ],
   "source": [
    "buah_warna"
   ]
  },
  {
   "cell_type": "code",
   "execution_count": 144,
   "id": "ac3f51dd",
   "metadata": {},
   "outputs": [
    {
     "data": {
      "text/plain": [
       "'aneh'"
      ]
     },
     "execution_count": 144,
     "metadata": {},
     "output_type": "execute_result"
    }
   ],
   "source": [
    "buah_warna[0]"
   ]
  },
  {
   "cell_type": "code",
   "execution_count": 145,
   "id": "20a8df22",
   "metadata": {},
   "outputs": [
    {
     "data": {
      "text/plain": [
       "'merah'"
      ]
     },
     "execution_count": 145,
     "metadata": {},
     "output_type": "execute_result"
    }
   ],
   "source": [
    "buah_warna[\"apel\"]"
   ]
  },
  {
   "cell_type": "code",
   "execution_count": 146,
   "id": "c73a1cb9",
   "metadata": {},
   "outputs": [],
   "source": [
    "buah_warna[0] = \"diganti\""
   ]
  },
  {
   "cell_type": "code",
   "execution_count": 147,
   "id": "033fb5a6",
   "metadata": {},
   "outputs": [
    {
     "data": {
      "text/plain": [
       "{'apel': 'merah',\n",
       " 'pisang': 'kuning',\n",
       " 'durian': 'hijau',\n",
       " 'salak': 'coklat',\n",
       " 0: 'diganti',\n",
       " 'darah': 'merah'}"
      ]
     },
     "execution_count": 147,
     "metadata": {},
     "output_type": "execute_result"
    }
   ],
   "source": [
    "buah_warna"
   ]
  },
  {
   "cell_type": "code",
   "execution_count": 148,
   "id": "50145d73",
   "metadata": {},
   "outputs": [],
   "source": [
    "buah_warna[\"oli\"] = \"hitam\""
   ]
  },
  {
   "cell_type": "code",
   "execution_count": 149,
   "id": "23718aa0",
   "metadata": {},
   "outputs": [
    {
     "data": {
      "text/plain": [
       "{'apel': 'merah',\n",
       " 'pisang': 'kuning',\n",
       " 'durian': 'hijau',\n",
       " 'salak': 'coklat',\n",
       " 0: 'diganti',\n",
       " 'darah': 'merah',\n",
       " 'oli': 'hitam'}"
      ]
     },
     "execution_count": 149,
     "metadata": {},
     "output_type": "execute_result"
    }
   ],
   "source": [
    "buah_warna"
   ]
  },
  {
   "cell_type": "code",
   "execution_count": 150,
   "id": "ab01a553",
   "metadata": {},
   "outputs": [],
   "source": [
    "biodata = {\"nama\": \"john\", \"umur\": 51, \"pasangan\": \"edna\", \"anak\": [\"ralph\", \"joe\"]}"
   ]
  },
  {
   "cell_type": "code",
   "execution_count": 151,
   "id": "f01ed291",
   "metadata": {},
   "outputs": [
    {
     "data": {
      "text/plain": [
       "{'nama': 'john', 'umur': 51, 'pasangan': 'edna', 'anak': ['ralph', 'joe']}"
      ]
     },
     "execution_count": 151,
     "metadata": {},
     "output_type": "execute_result"
    }
   ],
   "source": [
    "biodata"
   ]
  },
  {
   "cell_type": "code",
   "execution_count": 152,
   "id": "34e00419",
   "metadata": {},
   "outputs": [],
   "source": [
    "biodata_list = [\"john\", 51, \"edna\", [\"ralph\", \"joe\"]]"
   ]
  },
  {
   "cell_type": "code",
   "execution_count": 153,
   "id": "bdcad691",
   "metadata": {},
   "outputs": [
    {
     "data": {
      "text/plain": [
       "51"
      ]
     },
     "execution_count": 153,
     "metadata": {},
     "output_type": "execute_result"
    }
   ],
   "source": [
    "biodata_list[1]"
   ]
  },
  {
   "cell_type": "code",
   "execution_count": 154,
   "id": "722b1671",
   "metadata": {},
   "outputs": [
    {
     "data": {
      "text/plain": [
       "51"
      ]
     },
     "execution_count": 154,
     "metadata": {},
     "output_type": "execute_result"
    }
   ],
   "source": [
    "biodata[\"umur\"]"
   ]
  },
  {
   "cell_type": "code",
   "execution_count": 155,
   "id": "23506120",
   "metadata": {},
   "outputs": [],
   "source": [
    "sub_list = [\n",
    "    {\"nama\": \"john\", \"umur\": 51, \"pasangan\": \"edna\", \"anak\": [\"ralph\", \"joe\"]},\n",
    "    {\"nama\": \"ben\", \"umur\": 41, \"pasangan\": \"dina\", \"anak\": [\"ralph\", \"joe\"]}\n",
    "]"
   ]
  },
  {
   "cell_type": "code",
   "execution_count": 156,
   "id": "2712d262",
   "metadata": {},
   "outputs": [
    {
     "data": {
      "text/plain": [
       "[{'nama': 'john', 'umur': 51, 'pasangan': 'edna', 'anak': ['ralph', 'joe']},\n",
       " {'nama': 'ben', 'umur': 41, 'pasangan': 'dina', 'anak': ['ralph', 'joe']}]"
      ]
     },
     "execution_count": 156,
     "metadata": {},
     "output_type": "execute_result"
    }
   ],
   "source": [
    "sub_list"
   ]
  },
  {
   "cell_type": "code",
   "execution_count": 157,
   "id": "5b4df036",
   "metadata": {},
   "outputs": [
    {
     "data": {
      "text/plain": [
       "41"
      ]
     },
     "execution_count": 157,
     "metadata": {},
     "output_type": "execute_result"
    }
   ],
   "source": [
    "sub_list[1][\"umur\"]"
   ]
  },
  {
   "cell_type": "code",
   "execution_count": 158,
   "id": "91ff8def",
   "metadata": {},
   "outputs": [
    {
     "data": {
      "text/plain": [
       "['apel', 45, True, ['merah', 'biru', 'hijau']]"
      ]
     },
     "execution_count": 158,
     "metadata": {},
     "output_type": "execute_result"
    }
   ],
   "source": [
    "c"
   ]
  },
  {
   "cell_type": "code",
   "execution_count": 159,
   "id": "c3856eea",
   "metadata": {},
   "outputs": [
    {
     "data": {
      "text/plain": [
       "['merah', 'biru', 'hijau']"
      ]
     },
     "execution_count": 159,
     "metadata": {},
     "output_type": "execute_result"
    }
   ],
   "source": [
    "c[3]"
   ]
  },
  {
   "cell_type": "code",
   "execution_count": 160,
   "id": "21f66ee4",
   "metadata": {},
   "outputs": [],
   "source": [
    "z = c[3]"
   ]
  },
  {
   "cell_type": "code",
   "execution_count": 161,
   "id": "f86cdca7",
   "metadata": {},
   "outputs": [
    {
     "data": {
      "text/plain": [
       "['merah', 'biru', 'hijau']"
      ]
     },
     "execution_count": 161,
     "metadata": {},
     "output_type": "execute_result"
    }
   ],
   "source": [
    "z"
   ]
  },
  {
   "cell_type": "code",
   "execution_count": 162,
   "id": "4224ae96",
   "metadata": {},
   "outputs": [
    {
     "data": {
      "text/plain": [
       "'biru'"
      ]
     },
     "execution_count": 162,
     "metadata": {},
     "output_type": "execute_result"
    }
   ],
   "source": [
    "z[1]"
   ]
  },
  {
   "cell_type": "code",
   "execution_count": 163,
   "id": "3e3bbb79",
   "metadata": {},
   "outputs": [
    {
     "data": {
      "text/plain": [
       "'biru'"
      ]
     },
     "execution_count": 163,
     "metadata": {},
     "output_type": "execute_result"
    }
   ],
   "source": [
    "c[3][1]"
   ]
  },
  {
   "cell_type": "code",
   "execution_count": 164,
   "id": "c10b5771",
   "metadata": {},
   "outputs": [
    {
     "data": {
      "text/plain": [
       "True"
      ]
     },
     "execution_count": 164,
     "metadata": {},
     "output_type": "execute_result"
    }
   ],
   "source": [
    "z == c[3]"
   ]
  },
  {
   "cell_type": "markdown",
   "id": "6b326c9c",
   "metadata": {},
   "source": [
    "# panjang line"
   ]
  },
  {
   "cell_type": "code",
   "execution_count": 165,
   "id": "ebf9e0b0",
   "metadata": {},
   "outputs": [
    {
     "name": "stdout",
     "output_type": "stream",
     "text": [
      "205\n"
     ]
    }
   ],
   "source": [
    "x = 5 + 10 \\\n",
    "    * 20\n",
    "print(x)"
   ]
  },
  {
   "cell_type": "code",
   "execution_count": null,
   "id": "30e7509f",
   "metadata": {},
   "outputs": [],
   "source": []
  }
 ],
 "metadata": {
  "kernelspec": {
   "display_name": "Python 3 (ipykernel)",
   "language": "python",
   "name": "python3"
  },
  "language_info": {
   "codemirror_mode": {
    "name": "ipython",
    "version": 3
   },
   "file_extension": ".py",
   "mimetype": "text/x-python",
   "name": "python",
   "nbconvert_exporter": "python",
   "pygments_lexer": "ipython3",
   "version": "3.9.13"
  }
 },
 "nbformat": 4,
 "nbformat_minor": 5
}
